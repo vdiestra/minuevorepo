{
 "cells": [
  {
   "cell_type": "markdown",
   "id": "2effea31-f5d1-430f-b811-1027d3a3aaeb",
   "metadata": {},
   "source": [
    "# Trabajo final"
   ]
  },
  {
   "cell_type": "code",
   "execution_count": 3,
   "id": "59cdd4ad-a51f-4114-958d-666a89260dda",
   "metadata": {},
   "outputs": [],
   "source": [
    "import pandas as pd"
   ]
  },
  {
   "cell_type": "code",
   "execution_count": 5,
   "id": "0182e69c-b4cd-49a7-abbf-c03a0318b995",
   "metadata": {},
   "outputs": [],
   "source": [
    "#Cargar las BD\n",
    "\n",
    "anemia=\"C:/Users/spdie/OneDrive/Desktop/REC44_2023.csv\"\n",
    "anemiaBD=pd.read_csv(anemia, encoding = \"latin-1\")\n",
    "anemiaBD.columns= anemiaBD.columns.str.lower()\n",
    "\n",
    "hierro=\"C:/Users/spdie/OneDrive/Desktop/REC95_2023.csv\"\n",
    "hierroBD=pd.read_csv(hierro, encoding = \"latin-1\")\n",
    "hierroBD.columns= hierroBD.columns.str.lower()"
   ]
  },
  {
   "cell_type": "code",
   "execution_count": 7,
   "id": "8cf18cb5-6c64-49a5-bd21-6664d122cdb9",
   "metadata": {},
   "outputs": [
    {
     "name": "stdout",
     "output_type": "stream",
     "text": [
      "Index(['caseid', 'hw57', 'hw13'], dtype='object')\n",
      "Index(['caseid', 's465db_a', 's465db_b', 's465db_c', 's465db_d'], dtype='object')\n",
      "Index(['caseid', 's484'], dtype='object')\n",
      "Index(['caseid', 'v024', 'v025'], dtype='object')\n"
     ]
    }
   ],
   "source": [
    "#Conservar data frames solo con las variables a utilizar\n",
    "\n",
    "ane_small = anemiaBD[['caseid', 'hw57', 'hw13']]\n",
    "anemia_small = ane_small.copy()\n",
    "print(anemia_small.columns)\n",
    "\n",
    "hie_small = hierroBD[['caseid','s465db_a', 's465db_b', 's465db_c', 's465db_d']]\n",
    "hierro_small = hie_small.copy()\n",
    "print(hierro_small.columns)\n",
    "\n",
    "jun_small = juntosBD[['caseid', 's484']]\n",
    "juntos_small = jun_small.copy()\n",
    "print(juntos_small.columns)\n",
    "\n",
    "ubi_small = ubicacionBD[['caseid', 'v024', 'v025']]\n",
    "ubicacion_small = ubi_small.copy()\n",
    "print(ubicacion_small.columns)"
   ]
  },
  {
   "cell_type": "code",
   "execution_count": 9,
   "id": "20475582-8152-49aa-a807-3de9628eb77e",
   "metadata": {},
   "outputs": [
    {
     "name": "stdout",
     "output_type": "stream",
     "text": [
      "[0]\n"
     ]
    }
   ],
   "source": [
    "#Para este ejercicio solo conservaremos las observaciones en los que los niños tuvieron medición de anemia\n",
    "anemia_filter = anemia_small.query('hw13 == 0')\n",
    "\n",
    "#Verificar que en la variable solo haya 0 como observación, pues significa que fue medido\n",
    "verificar = anemia_filter['hw13'].unique()\n",
    "print(verificar)"
   ]
  },
  {
   "cell_type": "code",
   "execution_count": 113,
   "id": "c792e89e-e89e-4261-8c38-7bb25f706957",
   "metadata": {},
   "outputs": [
    {
     "name": "stdout",
     "output_type": "stream",
     "text": [
      "(24849, 7)\n",
      "Index(['caseid', 'hw57', 'hw13', 's465db_a', 's465db_b', 's465db_c',\n",
      "       's465db_d'],\n",
      "      dtype='object')\n"
     ]
    }
   ],
   "source": [
    "#unir las BD. \n",
    "\n",
    "bd_merge = pd.merge(anemia_filter, hierro_small, on='caseid', how='inner')\n",
    "\n",
    "print(bd_merge.shape)\n",
    "print(bd_merge.columns)"
   ]
  },
  {
   "cell_type": "code",
   "execution_count": 115,
   "id": "0600aefe-cc6f-47bf-8f35-48e22c71259c",
   "metadata": {},
   "outputs": [],
   "source": [
    "#Convertir a númericos los valores que utilizaré posteriormente\n",
    "bd_merge['s465db_a'] = pd.to_numeric(bd_merge['s465db_a'], errors='coerce')\n",
    "bd_merge['s465db_b'] = pd.to_numeric(bd_merge['s465db_b'], errors='coerce')\n",
    "bd_merge['s465db_c'] = pd.to_numeric(bd_merge['s465db_c'], errors='coerce')\n",
    "bd_merge['s465db_d'] = pd.to_numeric(bd_merge['s465db_d'], errors='coerce')"
   ]
  },
  {
   "cell_type": "code",
   "execution_count": 117,
   "id": "9274272b-ca18-4504-98a3-f17874c97306",
   "metadata": {},
   "outputs": [
    {
     "name": "stdout",
     "output_type": "stream",
     "text": [
      "(23379, 7)\n"
     ]
    }
   ],
   "source": [
    "#eliminar datos pérdidos\n",
    "bd_merge= bd_merge.dropna(subset=['s465db_a','s465db_b','s465db_c','s465db_d'])\n",
    "print(bd_merge.shape)"
   ]
  },
  {
   "cell_type": "code",
   "execution_count": 119,
   "id": "b2f373ac-f23e-4508-8f90-61f5bc2466ac",
   "metadata": {},
   "outputs": [],
   "source": [
    "#Crear nuevas variables dicotómicas, para saber si recibe o no el hierro en esa presentación por parte del MINSA\n",
    "bd_merge[['h_jarabe','h_gotas','h_polvo','h_otro']] = bd_merge[['s465db_a','s465db_b','s465db_c','s465db_d']].replace({2: 0, 8: 0})"
   ]
  },
  {
   "cell_type": "code",
   "execution_count": 121,
   "id": "704479b4-8676-4ab8-94ec-622991933936",
   "metadata": {},
   "outputs": [
    {
     "name": "stdout",
     "output_type": "stream",
     "text": [
      "Index(['caseid', 'hw57', 'hw13', 's465db_a', 's465db_b', 's465db_c',\n",
      "       's465db_d', 'h_jarabe', 'h_gotas', 'h_polvo', 'h_otro'],\n",
      "      dtype='object')\n"
     ]
    }
   ],
   "source": [
    "print(bd_merge.columns)"
   ]
  },
  {
   "cell_type": "code",
   "execution_count": 123,
   "id": "36638f3b-4638-4673-b62e-ee1fe1cefcfe",
   "metadata": {},
   "outputs": [],
   "source": [
    "#Quiero tener una variable que muestre en cuantos tipos de presentaciones reciben el hierro por parte del MINSA\n",
    "bd_merge[\"pres_hierro\"] = bd_merge['h_jarabe']+bd_merge['h_gotas']+bd_merge['h_polvo']+bd_merge['h_otro']"
   ]
  },
  {
   "cell_type": "markdown",
   "id": "630df3ec-0912-4da1-b217-e71e36a0b8d7",
   "metadata": {},
   "source": [
    "Quiero saber el porcentaje que no recibe ninguna presentación de hierro por parte del MINSA"
   ]
  },
  {
   "cell_type": "code",
   "execution_count": 126,
   "id": "a83ccaf8-80e1-4e2f-9d72-fc4d8f7d7721",
   "metadata": {},
   "outputs": [
    {
     "name": "stdout",
     "output_type": "stream",
     "text": [
      "El 42.268702681894005 no recibe ninguna presentación de hierro por parte del MINSA\n"
     ]
    }
   ],
   "source": [
    "def porcentaje_nr(df,variable):\n",
    "    no_hierro =df[df[variable]==0]\n",
    "    porcentaje = (len(no_hierro)/len(df))*100\n",
    "    return \"El {} no recibe ninguna presentación de hierro por parte del MINSA\".format(porcentaje)\n",
    "\n",
    "sin_hierro= porcentaje_nr(bd_merge,\"pres_hierro\")\n",
    "print(sin_hierro)"
   ]
  },
  {
   "cell_type": "markdown",
   "id": "1ca70872-0fd5-4cbf-8581-84bc1fda8129",
   "metadata": {},
   "source": [
    "Quiero un gráfico que muestre el porcentaje de aquellos con anemia en nivel moderado según la cantidad de presentaciones de hierro que reciben por parte del MINSA"
   ]
  },
  {
   "cell_type": "code",
   "execution_count": 69,
   "id": "683e2218-fb28-457b-a7c3-0facb5b6a8f1",
   "metadata": {},
   "outputs": [],
   "source": [
    "import altair as alt"
   ]
  },
  {
   "cell_type": "code",
   "execution_count": 71,
   "id": "39b14934-16cf-420a-912f-acefa06f4cd1",
   "metadata": {},
   "outputs": [
    {
     "name": "stdout",
     "output_type": "stream",
     "text": [
      "Requirement already satisfied: altair in c:\\users\\spdie\\anaconda3\\lib\\site-packages (5.5.0)\n",
      "Requirement already satisfied: jinja2 in c:\\users\\spdie\\anaconda3\\lib\\site-packages (from altair) (3.1.2)\n",
      "Requirement already satisfied: jsonschema>=3.0 in c:\\users\\spdie\\anaconda3\\lib\\site-packages (from altair) (4.23.0)\n",
      "Requirement already satisfied: narwhals>=1.14.2 in c:\\users\\spdie\\anaconda3\\lib\\site-packages (from altair) (1.22.0)\n",
      "Requirement already satisfied: packaging in c:\\users\\spdie\\anaconda3\\lib\\site-packages (from altair) (23.1)\n",
      "Requirement already satisfied: typing-extensions>=4.10.0 in c:\\users\\spdie\\anaconda3\\lib\\site-packages (from altair) (4.12.2)\n",
      "Requirement already satisfied: attrs>=22.2.0 in c:\\users\\spdie\\anaconda3\\lib\\site-packages (from jsonschema>=3.0->altair) (24.3.0)\n",
      "Requirement already satisfied: jsonschema-specifications>=2023.03.6 in c:\\users\\spdie\\anaconda3\\lib\\site-packages (from jsonschema>=3.0->altair) (2023.7.1)\n",
      "Requirement already satisfied: referencing>=0.28.4 in c:\\users\\spdie\\anaconda3\\lib\\site-packages (from jsonschema>=3.0->altair) (0.30.2)\n",
      "Requirement already satisfied: rpds-py>=0.7.1 in c:\\users\\spdie\\anaconda3\\lib\\site-packages (from jsonschema>=3.0->altair) (0.10.6)\n",
      "Requirement already satisfied: MarkupSafe>=2.0 in c:\\users\\spdie\\anaconda3\\lib\\site-packages (from jinja2->altair) (2.1.1)\n"
     ]
    }
   ],
   "source": [
    "!pip install altair"
   ]
  },
  {
   "cell_type": "code",
   "execution_count": 75,
   "id": "d9af0c2d-7dc5-4402-9479-b8e8a0ff6a45",
   "metadata": {},
   "outputs": [
    {
     "name": "stdout",
     "output_type": "stream",
     "text": [
      "       anemia_cat hw57\n",
      "0      sin anemia    4\n",
      "1            leve    3\n",
      "2      sin anemia    4\n",
      "3      sin anemia    4\n",
      "4      sin anemia    4\n",
      "...           ...  ...\n",
      "24844  sin anemia    4\n",
      "24845        leve    3\n",
      "24846  sin anemia    4\n",
      "24847           9    9\n",
      "24848  sin anemia    4\n",
      "\n",
      "[23379 rows x 2 columns]\n"
     ]
    }
   ],
   "source": [
    "#Variable nivel de anemia\n",
    "\n",
    "#Nueva variable con valores\n",
    "bd_merge ['anemia_cat'] = bd_merge ['hw57'].replace({\"1\": 'grave', \"2\": 'moderado', \"3\": 'leve', \"4\": 'sin anemia'})\n",
    "print(bd_merge[['anemia_cat' , 'hw57']])"
   ]
  },
  {
   "cell_type": "code",
   "execution_count": 99,
   "id": "1db88876-00a1-4065-b654-73bca1cfc621",
   "metadata": {},
   "outputs": [
    {
     "name": "stdout",
     "output_type": "stream",
     "text": [
      "(2390, 16)\n"
     ]
    }
   ],
   "source": [
    "#Tener una sub data solo con los que tienen anemia moderada\n",
    "bd_merge_sub= bd_merge.query(\"anemia_cat == 'moderado'\")\n",
    "print(bd_merge_sub.shape)"
   ]
  },
  {
   "cell_type": "code",
   "execution_count": 107,
   "id": "9df2b600-c0b1-47d2-b678-0c3d777f335e",
   "metadata": {},
   "outputs": [
    {
     "data": {
      "text/html": [
       "<div>\n",
       "<style scoped>\n",
       "    .dataframe tbody tr th:only-of-type {\n",
       "        vertical-align: middle;\n",
       "    }\n",
       "\n",
       "    .dataframe tbody tr th {\n",
       "        vertical-align: top;\n",
       "    }\n",
       "\n",
       "    .dataframe thead th {\n",
       "        text-align: right;\n",
       "    }\n",
       "</style>\n",
       "<table border=\"1\" class=\"dataframe\">\n",
       "  <thead>\n",
       "    <tr style=\"text-align: right;\">\n",
       "      <th></th>\n",
       "      <th>pres_hierro</th>\n",
       "      <th>cantidad</th>\n",
       "      <th>porcentaje</th>\n",
       "    </tr>\n",
       "  </thead>\n",
       "  <tbody>\n",
       "    <tr>\n",
       "      <th>0</th>\n",
       "      <td>1.0</td>\n",
       "      <td>1087</td>\n",
       "      <td>45.481172</td>\n",
       "    </tr>\n",
       "    <tr>\n",
       "      <th>1</th>\n",
       "      <td>0.0</td>\n",
       "      <td>760</td>\n",
       "      <td>31.799163</td>\n",
       "    </tr>\n",
       "    <tr>\n",
       "      <th>2</th>\n",
       "      <td>2.0</td>\n",
       "      <td>463</td>\n",
       "      <td>19.372385</td>\n",
       "    </tr>\n",
       "    <tr>\n",
       "      <th>3</th>\n",
       "      <td>3.0</td>\n",
       "      <td>79</td>\n",
       "      <td>3.305439</td>\n",
       "    </tr>\n",
       "    <tr>\n",
       "      <th>4</th>\n",
       "      <td>4.0</td>\n",
       "      <td>1</td>\n",
       "      <td>0.041841</td>\n",
       "    </tr>\n",
       "  </tbody>\n",
       "</table>\n",
       "</div>"
      ],
      "text/plain": [
       "   pres_hierro  cantidad  porcentaje\n",
       "0          1.0      1087   45.481172\n",
       "1          0.0       760   31.799163\n",
       "2          2.0       463   19.372385\n",
       "3          3.0        79    3.305439\n",
       "4          4.0         1    0.041841"
      ]
     },
     "execution_count": 107,
     "metadata": {},
     "output_type": "execute_result"
    }
   ],
   "source": [
    "#Calcular los porcentajes a mostrar en el gráfico\n",
    "\n",
    "contar_cant = bd_merge_sub['pres_hierro'].value_counts().reset_index()\n",
    "contar_cant.columns = ['pres_hierro', 'cantidad']\n",
    "\n",
    "contar_cant[\"porcentaje\"] = contar_cant['cantidad'] / contar_cant['cantidad'].sum() * 100\n",
    "contar_cant"
   ]
  },
  {
   "cell_type": "code",
   "execution_count": 129,
   "id": "1f21bdf0-f3f2-4156-a58e-0c69d03a5ce2",
   "metadata": {},
   "outputs": [
    {
     "data": {
      "text/html": [
       "\n",
       "<style>\n",
       "  #altair-viz-e7dabbe9f38c40fc9a41fe4d2f3fd476.vega-embed {\n",
       "    width: 100%;\n",
       "    display: flex;\n",
       "  }\n",
       "\n",
       "  #altair-viz-e7dabbe9f38c40fc9a41fe4d2f3fd476.vega-embed details,\n",
       "  #altair-viz-e7dabbe9f38c40fc9a41fe4d2f3fd476.vega-embed details summary {\n",
       "    position: relative;\n",
       "  }\n",
       "</style>\n",
       "<div id=\"altair-viz-e7dabbe9f38c40fc9a41fe4d2f3fd476\"></div>\n",
       "<script type=\"text/javascript\">\n",
       "  var VEGA_DEBUG = (typeof VEGA_DEBUG == \"undefined\") ? {} : VEGA_DEBUG;\n",
       "  (function(spec, embedOpt){\n",
       "    let outputDiv = document.currentScript.previousElementSibling;\n",
       "    if (outputDiv.id !== \"altair-viz-e7dabbe9f38c40fc9a41fe4d2f3fd476\") {\n",
       "      outputDiv = document.getElementById(\"altair-viz-e7dabbe9f38c40fc9a41fe4d2f3fd476\");\n",
       "    }\n",
       "\n",
       "    const paths = {\n",
       "      \"vega\": \"https://cdn.jsdelivr.net/npm/vega@5?noext\",\n",
       "      \"vega-lib\": \"https://cdn.jsdelivr.net/npm/vega-lib?noext\",\n",
       "      \"vega-lite\": \"https://cdn.jsdelivr.net/npm/vega-lite@5.20.1?noext\",\n",
       "      \"vega-embed\": \"https://cdn.jsdelivr.net/npm/vega-embed@6?noext\",\n",
       "    };\n",
       "\n",
       "    function maybeLoadScript(lib, version) {\n",
       "      var key = `${lib.replace(\"-\", \"\")}_version`;\n",
       "      return (VEGA_DEBUG[key] == version) ?\n",
       "        Promise.resolve(paths[lib]) :\n",
       "        new Promise(function(resolve, reject) {\n",
       "          var s = document.createElement('script');\n",
       "          document.getElementsByTagName(\"head\")[0].appendChild(s);\n",
       "          s.async = true;\n",
       "          s.onload = () => {\n",
       "            VEGA_DEBUG[key] = version;\n",
       "            return resolve(paths[lib]);\n",
       "          };\n",
       "          s.onerror = () => reject(`Error loading script: ${paths[lib]}`);\n",
       "          s.src = paths[lib];\n",
       "        });\n",
       "    }\n",
       "\n",
       "    function showError(err) {\n",
       "      outputDiv.innerHTML = `<div class=\"error\" style=\"color:red;\">${err}</div>`;\n",
       "      throw err;\n",
       "    }\n",
       "\n",
       "    function displayChart(vegaEmbed) {\n",
       "      vegaEmbed(outputDiv, spec, embedOpt)\n",
       "        .catch(err => showError(`Javascript Error: ${err.message}<br>This usually means there's a typo in your chart specification. See the javascript console for the full traceback.`));\n",
       "    }\n",
       "\n",
       "    if(typeof define === \"function\" && define.amd) {\n",
       "      requirejs.config({paths});\n",
       "      let deps = [\"vega-embed\"];\n",
       "      require(deps, displayChart, err => showError(`Error loading script: ${err.message}`));\n",
       "    } else {\n",
       "      maybeLoadScript(\"vega\", \"5\")\n",
       "        .then(() => maybeLoadScript(\"vega-lite\", \"5.20.1\"))\n",
       "        .then(() => maybeLoadScript(\"vega-embed\", \"6\"))\n",
       "        .catch(showError)\n",
       "        .then(() => displayChart(vegaEmbed));\n",
       "    }\n",
       "  })({\"config\": {\"view\": {\"continuousWidth\": 300, \"continuousHeight\": 300}}, \"data\": {\"name\": \"data-1e2a63c354ab477018bd595c85ac24ec\"}, \"mark\": {\"type\": \"bar\"}, \"encoding\": {\"color\": {\"field\": \"pres_hierro\", \"type\": \"nominal\"}, \"tooltip\": [{\"field\": \"pres_hierro\", \"type\": \"quantitative\"}, {\"field\": \"porcentaje\", \"type\": \"quantitative\"}], \"x\": {\"field\": \"pres_hierro\", \"type\": \"ordinal\"}, \"y\": {\"field\": \"porcentaje\", \"type\": \"quantitative\"}}, \"title\": \"Cantidad de presentaciones de hierro que reciben quienes tienen anemia moderada por parte del MINSA\", \"$schema\": \"https://vega.github.io/schema/vega-lite/v5.20.1.json\", \"datasets\": {\"data-1e2a63c354ab477018bd595c85ac24ec\": [{\"pres_hierro\": 1.0, \"cantidad\": 1087, \"porcentaje\": 45.48117154811715}, {\"pres_hierro\": 0.0, \"cantidad\": 760, \"porcentaje\": 31.799163179916317}, {\"pres_hierro\": 2.0, \"cantidad\": 463, \"porcentaje\": 19.372384937238493}, {\"pres_hierro\": 3.0, \"cantidad\": 79, \"porcentaje\": 3.305439330543933}, {\"pres_hierro\": 4.0, \"cantidad\": 1, \"porcentaje\": 0.04184100418410042}]}}, {\"mode\": \"vega-lite\"});\n",
       "</script>"
      ],
      "text/plain": [
       "alt.Chart(...)"
      ]
     },
     "metadata": {},
     "output_type": "display_data"
    }
   ],
   "source": [
    "# Crear el gráfico\n",
    "\n",
    "# Crear el gráfico de barras\n",
    "chart = alt.Chart(contar_cant).mark_bar().encode(\n",
    "    x='pres_hierro:O',  \n",
    "    y='porcentaje:Q',  \n",
    "    color='pres_hierro:N',  \n",
    "    tooltip=['pres_hierro', 'porcentaje']).properties(title='Cantidad de presentaciones de hierro que reciben quienes tienen anemia moderada por parte del MINSA')\n",
    "\n",
    "chart.show()"
   ]
  },
  {
   "cell_type": "code",
   "execution_count": null,
   "id": "8dcce018-8e1c-4247-a51f-fb602b541348",
   "metadata": {},
   "outputs": [],
   "source": []
  }
 ],
 "metadata": {
  "kernelspec": {
   "display_name": "Python [conda env:base] *",
   "language": "python",
   "name": "conda-base-py"
  },
  "language_info": {
   "codemirror_mode": {
    "name": "ipython",
    "version": 3
   },
   "file_extension": ".py",
   "mimetype": "text/x-python",
   "name": "python",
   "nbconvert_exporter": "python",
   "pygments_lexer": "ipython3",
   "version": "3.11.5"
  }
 },
 "nbformat": 4,
 "nbformat_minor": 5
}
